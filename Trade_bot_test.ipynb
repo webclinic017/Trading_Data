{
  "nbformat": 4,
  "nbformat_minor": 0,
  "metadata": {
    "colab": {
      "name": "Trade_bot_test.ipynb",
      "provenance": [],
      "authorship_tag": "ABX9TyPvgVRQGw8URRTyZg4jwof+",
      "include_colab_link": true
    },
    "kernelspec": {
      "name": "python3",
      "display_name": "Python 3"
    },
    "language_info": {
      "name": "python"
    }
  },
  "cells": [
    {
      "cell_type": "markdown",
      "metadata": {
        "id": "view-in-github",
        "colab_type": "text"
      },
      "source": [
        "<a href=\"https://colab.research.google.com/github/ronnzach/Trading_Data/blob/master/Trade_bot_test.ipynb\" target=\"_parent\"><img src=\"https://colab.research.google.com/assets/colab-badge.svg\" alt=\"Open In Colab\"/></a>"
      ]
    },
    {
      "cell_type": "code",
      "execution_count": null,
      "metadata": {
        "id": "xiZ8CMghB0iW"
      },
      "outputs": [],
      "source": [
        "pip install websocket-client\n"
      ]
    },
    {
      "cell_type": "code",
      "source": [
        "!wget http://prdownloads.sourceforge.net/ta-lib/ta-lib-0.4.0-src.tar.gz\n",
        "!tar -xzvf ta-lib-0.4.0-src.tar.gz\n",
        "%cd ta-lib\n",
        "!./configure --prefix=/usr\n",
        "!make\n",
        "!make install\n",
        "!pip install Ta-Lib\n",
        "import talib\n"
      ],
      "metadata": {
        "id": "YevD5i8PCLL0"
      },
      "execution_count": null,
      "outputs": []
    },
    {
      "cell_type": "code",
      "source": [
        "import websocket\n",
        "import talib\n",
        "import numpy as np\n",
        "import json\n"
      ],
      "metadata": {
        "id": "hH1uz7gNEEcL"
      },
      "execution_count": 11,
      "outputs": []
    },
    {
      "cell_type": "code",
      "source": [
        "cc = 'ethusdt'\n",
        "interval = '1m'\n",
        "\n",
        "socket = f'wss://stream.binance.com:9443/ws/{cc}@kline_{interval}'"
      ],
      "metadata": {
        "id": "7YmaoraSLdnX"
      },
      "execution_count": 7,
      "outputs": []
    },
    {
      "cell_type": "code",
      "source": [
        "#strat parameters\n",
        "\n",
        "aroon_time_period =14\n",
        "\n",
        "core_to_trade = True\n",
        "core_quantity= 0\n",
        "\n",
        "amount = 200\n",
        "core_trade_amount = amount *0.20\n",
        "trade_amount = amount*0.80\n",
        "money_end = amount\n",
        "portfolio = 0\n",
        "investment, closes, highs, lows,  =[],[],[],[]\n",
        "real_time_portfolio_value = []\n",
        "\n"
      ],
      "metadata": {
        "id": "HfYwBfmREmL2"
      },
      "execution_count": 51,
      "outputs": []
    },
    {
      "cell_type": "code",
      "source": [
        "#Paper trading simulation functions\n",
        "\n",
        "\n",
        "def buy(allocated_money, price):\n",
        "  global money_end, portfolio , investment\n",
        "  quantity = allocated_money /price\n",
        "  money_end -= quantity*price\n",
        "  portfolio += quantity\n",
        "  if investment == []:\n",
        "    investment.append(allocated_money)\n",
        "  else:\n",
        "      investment.append(allocated_money)\n",
        "      investment[-1] += investment[-2]\n",
        "\n",
        "\n",
        "def sell(allocated_money, price):\n",
        "  global money_end, portfolio , investment\n",
        "  quantity = allocated_money / price\n",
        "  money_end += quantity*price\n",
        "  portfolio -= quantity\n",
        "  investment.append(-allocated_money)\n",
        "  investment[-1] += investment[-2]\n"
      ],
      "metadata": {
        "id": "fjJOPoqRFDsD"
      },
      "execution_count": 49,
      "outputs": []
    },
    {
      "cell_type": "code",
      "source": [
        "def on_close(ws):\n",
        "  portfolio_value = portfolio * closes[-1]\n",
        "  if portfolio_value > 0:\n",
        "    sell(portfolio_value, price = closes[-1])\n",
        "  else:\n",
        "    buy(-portfolio_value, price = closes[-1])\n",
        "\n",
        "  money_end += investment[-1]\n",
        "  print('All trades settled')\n",
        "\n",
        "def on_message(ws, message):\n",
        "  global closes, high , lows , core_to_trade, core_quantity, money_end, portfolio,investment\n",
        "  json_message = json.loads(message)\n",
        "  cs = json_message['k']\n",
        "  candle_closed = cs['x']\n",
        "  close = cs['c']\n",
        "  high = cs['h']\n",
        "  low = cs['l']\n",
        "  \n",
        "  if candle_closed:\n",
        "    closes.append(float(close))\n",
        "    highs.append(float(high))\n",
        "    lows.append(float(low))\n",
        "    last_price = closes[-1]\n",
        "    print(f'closes: {closes}') \n",
        "   \n",
        "    if core_to_trade:\n",
        "      buy(core_trade_amount, price = closes[-1])\n",
        "      print (f'Core Investment : Bought ${core_trade_amount} worth of ETH','\\n')\n",
        "      core_quantity += core_trade_amount / closes[-1]\n",
        "      core_to_trade = False\n",
        "\n",
        "    \n",
        "    aroon = talib.AROONOSC(np.array(highs),np.array(lows),aroon_time_period)\n",
        "    last_aroon = round(aroon[-1],2)\n",
        "    amt = last_aroon * trade_amount / 100\n",
        "    port_value = portfolio *last_price - core_quantity*last_price\n",
        "    trade_amt = amt - port_value\n",
        "    \n",
        "    \n",
        "    RT_portfolio_value = port_value + core_quantity*last_price + money_end\n",
        "    real_time_portfolio_value.append(float(RT_portfolio_value))\n",
        "\n",
        "\n",
        "    print(f'The last aroon is \"{last_aroon}\" and recommended exposure is \"${amt}\"')\n",
        "    print(f'Real Time Portfolio value : $ {RT_portfolio_value}', '\\n') \n",
        "\n",
        "\n",
        "    if trade_amt > 0:\n",
        "      buy(trade_amt, price=last_price)\n",
        "      print(f'Bought ${trade_amt} worth of ETH','\\n','\\n')\n",
        "    elif trade_amt < 0:\n",
        "      sell(-trade_amt, price=last_price) \n",
        "      print(f'Sold ${-trade_amt} worth of ETH','\\n','\\n')\n",
        "\n",
        "\n",
        "\n",
        "\n",
        "ws = websocket.WebSocketApp(socket, on_message= on_message, on_close= on_close)\n"
      ],
      "metadata": {
        "id": "erQNibsZK_nV"
      },
      "execution_count": 53,
      "outputs": []
    },
    {
      "cell_type": "code",
      "source": [
        ""
      ],
      "metadata": {
        "id": "oIl_DDjbEKZA"
      },
      "execution_count": null,
      "outputs": []
    },
    {
      "cell_type": "code",
      "source": [
        "ws.run_forever()"
      ],
      "metadata": {
        "id": "u9PkR9aiM21s"
      },
      "execution_count": null,
      "outputs": []
    },
    {
      "cell_type": "code",
      "source": [
        "real_time_portfolio_value"
      ],
      "metadata": {
        "id": "lLY5W-LUMK9-"
      },
      "execution_count": null,
      "outputs": []
    }
  ]
}